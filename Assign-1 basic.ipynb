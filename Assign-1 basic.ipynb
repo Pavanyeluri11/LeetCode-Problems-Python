{
 "cells": [
  {
   "cell_type": "markdown",
   "id": "fb6e4556",
   "metadata": {},
   "source": [
    "# Assignment - 1\n",
    "\n",
    "*This Notebook is an extract of some basic problems solved on hackerRank as a part of my internship at Innomatics.*"
   ]
  },
  {
   "cell_type": "markdown",
   "id": "cec85c26",
   "metadata": {},
   "source": [
    "**Problem-1**"
   ]
  },
  {
   "cell_type": "code",
   "execution_count": 1,
   "id": "14d4ec6d",
   "metadata": {},
   "outputs": [
    {
     "name": "stdout",
     "output_type": "stream",
     "text": [
      "Hello, World!\n"
     ]
    }
   ],
   "source": [
    "print(\"Hello, World!\")"
   ]
  },
  {
   "cell_type": "markdown",
   "id": "83e885d1",
   "metadata": {},
   "source": [
    "**Problem - 2**"
   ]
  },
  {
   "cell_type": "code",
   "execution_count": 6,
   "id": "f0b5cc75",
   "metadata": {},
   "outputs": [
    {
     "name": "stdout",
     "output_type": "stream",
     "text": [
      "Enter Number:10\n",
      "Output : Weird\n"
     ]
    }
   ],
   "source": [
    "def fun(n):\n",
    "    if n%2!=0:\n",
    "        return 'Weird'\n",
    "    elif n%2==0 and n in range(2,6):\n",
    "        return 'Not Weird'\n",
    "    elif n%2==0 and n in range(6,21):\n",
    "        return 'Weird'\n",
    "    elif n%2==0:\n",
    "        return 'Not Weird'\n",
    "\n",
    "if __name__ == '__main__':\n",
    "    n = int(input(\"Enter Number:\"))\n",
    "    print('Output :',fun(n))\n",
    "    "
   ]
  },
  {
   "cell_type": "markdown",
   "id": "9a069a9e",
   "metadata": {},
   "source": [
    "**Problem - 3**"
   ]
  },
  {
   "cell_type": "code",
   "execution_count": 8,
   "id": "b3591baa",
   "metadata": {},
   "outputs": [
    {
     "name": "stdout",
     "output_type": "stream",
     "text": [
      "Enter the numbers: 6 3\n",
      "9 \n",
      " 3 \n",
      " 18 \n",
      "\n"
     ]
    }
   ],
   "source": [
    "a,b = map(int,input('Enter the numbers: ').split())\n",
    "print(str(a+b) + '\\n' + str(a-b) + '\\n' + str(a*b))"
   ]
  },
  {
   "cell_type": "markdown",
   "id": "e149f3ea",
   "metadata": {},
   "source": [
    "**Problem-4**"
   ]
  },
  {
   "cell_type": "code",
   "execution_count": 9,
   "id": "ec4ed0f7",
   "metadata": {},
   "outputs": [
    {
     "name": "stdout",
     "output_type": "stream",
     "text": [
      "Enter Your Numbers: 6 9\n",
      "0\n",
      "0.6666666666666666\n"
     ]
    }
   ],
   "source": [
    "a,b = [int(x) for x in input('Enter Your Numbers: ').split()]\n",
    "print(a//b)\n",
    "print(a/b)"
   ]
  },
  {
   "cell_type": "markdown",
   "id": "3be11a78",
   "metadata": {},
   "source": [
    "**Problem-5**"
   ]
  },
  {
   "cell_type": "code",
   "execution_count": 13,
   "id": "6785b8da",
   "metadata": {},
   "outputs": [
    {
     "name": "stdout",
     "output_type": "stream",
     "text": [
      "Enter Number:3\n",
      "0\n",
      "1\n",
      "4\n"
     ]
    }
   ],
   "source": [
    "n = int(input('Enter Number:'))\n",
    "print(*[num**2 for num in range(n)], sep='\\n')"
   ]
  },
  {
   "cell_type": "markdown",
   "id": "dea65dc7",
   "metadata": {},
   "source": [
    "**problem-6**"
   ]
  },
  {
   "cell_type": "code",
   "execution_count": 19,
   "id": "e06952d1",
   "metadata": {},
   "outputs": [
    {
     "name": "stdout",
     "output_type": "stream",
     "text": [
      "False\n"
     ]
    }
   ],
   "source": [
    "def is_leap(year):\n",
    "    leap = False\n",
    "    if (year % 4) == 0:\n",
    "        if(year % 100) == 0:\n",
    "            if(year % 400) == 0:\n",
    "                leap = True\n",
    "        else:\n",
    "            leap = True\n",
    "    \n",
    "    return leap\n",
    "\n",
    "print(is_leap(2054))"
   ]
  },
  {
   "cell_type": "markdown",
   "id": "8a0bb883",
   "metadata": {},
   "source": [
    "**Problem-7**"
   ]
  },
  {
   "cell_type": "code",
   "execution_count": 21,
   "id": "9eb7489b",
   "metadata": {},
   "outputs": [
    {
     "name": "stdout",
     "output_type": "stream",
     "text": [
      "Enter Num: 3\n",
      "123"
     ]
    }
   ],
   "source": [
    "n = int(input('Enter Num: '))\n",
    "for i in range(1,n+1):\n",
    "    print(str(i),end='')"
   ]
  },
  {
   "cell_type": "markdown",
   "id": "1c393b2b",
   "metadata": {},
   "source": [
    "*Link to my HackerRank Profile:https://www.hackerrank.com/pyeluri28*"
   ]
  }
 ],
 "metadata": {
  "kernelspec": {
   "display_name": "Python 3 (ipykernel)",
   "language": "python",
   "name": "python3"
  },
  "language_info": {
   "codemirror_mode": {
    "name": "ipython",
    "version": 3
   },
   "file_extension": ".py",
   "mimetype": "text/x-python",
   "name": "python",
   "nbconvert_exporter": "python",
   "pygments_lexer": "ipython3",
   "version": "3.8.2"
  }
 },
 "nbformat": 4,
 "nbformat_minor": 5
}
